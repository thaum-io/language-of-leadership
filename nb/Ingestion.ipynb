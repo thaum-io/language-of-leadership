{
 "cells": [
  {
   "cell_type": "code",
   "execution_count": null,
   "metadata": {},
   "outputs": [],
   "source": [
    "import os\n",
    "import sys\n",
    "import numpy as np \n",
    "import pandas as pd\n",
    "from tqdm import tqdm\n",
    "import multiprocessing"
   ]
  },
  {
   "cell_type": "markdown",
   "metadata": {},
   "source": [
    "## Parallel data ingestion, spell-check and output"
   ]
  },
  {
   "cell_type": "code",
   "execution_count": null,
   "metadata": {},
   "outputs": [],
   "source": [
    "# Add repo\n",
    "git_dir = os.path.abspath('../')\n",
    "sys.path.append(os.path.join(git_dir, 'lib', 'utils') )\n",
    "\n",
    "# Define data path\n",
    "data_path = os.path.join(git_dir, 'data', 'pm-transcripts')\n",
    "\n",
    "# Define data output path\n",
    "data_output_path = os.path.join(git_dir, 'data', 'pm-transcripts-processed')\n",
    "\n",
    "# Make dataframe from index\n",
    "ts_path = os.path.join(data_path, 'transcripts') # path folder of where pm-transcripts are stored\n",
    "index_file_path = os.path.join(data_path, 'index.csv')\n",
    "index_df = pd.read_csv(index_file_path).dropna(subset=['id'])\n",
    "\n",
    "# Make output dir\n",
    "if not os.path.exists(data_output_path):\n",
    "    os.makedirs(data_output_path)"
   ]
  },
  {
   "cell_type": "code",
   "execution_count": null,
   "metadata": {},
   "outputs": [],
   "source": [
    "from xml_cleaner import get_transcript_fname_by_id, parse_transcript"
   ]
  },
  {
   "cell_type": "code",
   "execution_count": null,
   "metadata": {},
   "outputs": [],
   "source": [
    "ts_ids = list(index_df['id'].astype(int))\n",
    "def mapf(ts_id):\n",
    "    return parse_transcript(get_transcript_fname_by_id(ts_path, ts_id))\n",
    "\n",
    "pool = multiprocessing.Pool()\n",
    "output = list(tqdm(pool.imap(mapf, ts_ids), total=len(ts_ids)))"
   ]
  },
  {
   "cell_type": "code",
   "execution_count": null,
   "metadata": {},
   "outputs": [],
   "source": [
    "# Output to df\n",
    "df = pd.DataFrame(output)"
   ]
  },
  {
   "cell_type": "code",
   "execution_count": null,
   "metadata": {},
   "outputs": [],
   "source": [
    "# Inspect data\n",
    "df"
   ]
  },
  {
   "cell_type": "code",
   "execution_count": null,
   "metadata": {},
   "outputs": [],
   "source": [
    "df.to_csv(f'{data_output_path}/aggregated-spellfixed.csv')"
   ]
  },
  {
   "cell_type": "code",
   "execution_count": null,
   "metadata": {},
   "outputs": [],
   "source": []
  }
 ],
 "metadata": {
  "kernelspec": {
   "display_name": "Python 3",
   "language": "python",
   "name": "python3"
  },
  "language_info": {
   "codemirror_mode": {
    "name": "ipython",
    "version": 3
   },
   "file_extension": ".py",
   "mimetype": "text/x-python",
   "name": "python",
   "nbconvert_exporter": "python",
   "pygments_lexer": "ipython3",
   "version": "3.8.3"
  }
 },
 "nbformat": 4,
 "nbformat_minor": 4
}

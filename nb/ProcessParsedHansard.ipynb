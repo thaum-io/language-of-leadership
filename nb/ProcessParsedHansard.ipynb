{
 "cells": [
  {
   "cell_type": "code",
   "execution_count": 3,
   "metadata": {},
   "outputs": [],
   "source": [
    "import os, sys\n",
    "import glob, json\n",
    "import pandas as pd\n",
    "\n",
    "# Add repo\n",
    "git_dir = os.path.abspath('../')\n",
    "sys.path.append(os.path.join(git_dir, 'lib', 'utils'))\n",
    "\n",
    "# Define data path\n",
    "data_path = os.path.join(git_dir, 'data', 'hansard-parsed')\n",
    "\n",
    "# Get all json files\n",
    "data_path_senate = os.path.join(data_path, 'senate')\n",
    "data_path_hofreps = os.path.join(data_path, 'hofreps')\n",
    "\n",
    "json_files_senate = [y for x in os.walk(data_path_senate) for y in glob.glob(os.path.join(x[0], '*.json'))]\n",
    "json_files_hofreps = [y for x in os.walk(data_path_hofreps) for y in glob.glob(os.path.join(x[0], '*.json'))]"
   ]
  },
  {
   "cell_type": "code",
   "execution_count": 5,
   "metadata": {
    "scrolled": true
   },
   "outputs": [],
   "source": [
    "# Create single dataframe\n",
    "df_sentate = pd.DataFramejson_files_senate"
   ]
  },
  {
   "cell_type": "code",
   "execution_count": null,
   "metadata": {},
   "outputs": [],
   "source": []
  }
 ],
 "metadata": {
  "kernelspec": {
   "display_name": "Python [conda env:spacy]",
   "language": "python",
   "name": "conda-env-spacy-py"
  },
  "language_info": {
   "codemirror_mode": {
    "name": "ipython",
    "version": 3
   },
   "file_extension": ".py",
   "mimetype": "text/x-python",
   "name": "python",
   "nbconvert_exporter": "python",
   "pygments_lexer": "ipython3",
   "version": "3.7.7"
  }
 },
 "nbformat": 4,
 "nbformat_minor": 4
}
